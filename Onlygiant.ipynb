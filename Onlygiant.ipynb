{
 "cells": [
  {
   "cell_type": "markdown",
   "metadata": {},
   "source": [
    "# EXPLOTACION DE POZOS DE PETROLEO: OILYGIATN"
   ]
  },
  {
   "cell_type": "markdown",
   "metadata": {},
   "source": [
    "### Objetivo"
   ]
  },
  {
   "cell_type": "markdown",
   "metadata": {},
   "source": [
    "* Entrenar el modelo de regresion lineal y obtener los mejores 200 pozo para la inversion de la Empresa OilyGiant"
   ]
  },
  {
   "cell_type": "markdown",
   "metadata": {},
   "source": [
    "## Carga y Exploracion de los datos"
   ]
  },
  {
   "cell_type": "code",
   "execution_count": null,
   "metadata": {},
   "outputs": [],
   "source": [
    "#Importacion de librerias\n",
    "\n",
    "import pandas as pd\n",
    "import numpy as np\n",
    "from sklearn.model_selection import train_test_split\n",
    "from sklearn.linear_model import LinearRegression\n",
    "#Uso root_mean_squared_error porque la version que uso mean_squared_error esta 'deprecated'\n",
    "from sklearn.metrics import root_mean_squared_error"
   ]
  },
  {
   "cell_type": "code",
   "execution_count": null,
   "metadata": {},
   "outputs": [
    {
     "name": "stdout",
     "output_type": "stream",
     "text": [
      "Data 0\n",
      "<class 'pandas.core.frame.DataFrame'>\n",
      "RangeIndex: 100000 entries, 0 to 99999\n",
      "Data columns (total 5 columns):\n",
      " #   Column   Non-Null Count   Dtype  \n",
      "---  ------   --------------   -----  \n",
      " 0   id       100000 non-null  object \n",
      " 1   f0       100000 non-null  float64\n",
      " 2   f1       100000 non-null  float64\n",
      " 3   f2       100000 non-null  float64\n",
      " 4   product  100000 non-null  float64\n",
      "dtypes: float64(4), object(1)\n",
      "memory usage: 3.8+ MB\n",
      "\n",
      "Data 01\n",
      "<class 'pandas.core.frame.DataFrame'>\n",
      "RangeIndex: 100000 entries, 0 to 99999\n",
      "Data columns (total 5 columns):\n",
      " #   Column   Non-Null Count   Dtype  \n",
      "---  ------   --------------   -----  \n",
      " 0   id       100000 non-null  object \n",
      " 1   f0       100000 non-null  float64\n",
      " 2   f1       100000 non-null  float64\n",
      " 3   f2       100000 non-null  float64\n",
      " 4   product  100000 non-null  float64\n",
      "dtypes: float64(4), object(1)\n",
      "memory usage: 3.8+ MB\n",
      "\n",
      "Data 02\n",
      "<class 'pandas.core.frame.DataFrame'>\n",
      "RangeIndex: 100000 entries, 0 to 99999\n",
      "Data columns (total 5 columns):\n",
      " #   Column   Non-Null Count   Dtype  \n",
      "---  ------   --------------   -----  \n",
      " 0   id       100000 non-null  object \n",
      " 1   f0       100000 non-null  float64\n",
      " 2   f1       100000 non-null  float64\n",
      " 3   f2       100000 non-null  float64\n",
      " 4   product  100000 non-null  float64\n",
      "dtypes: float64(4), object(1)\n",
      "memory usage: 3.8+ MB\n"
     ]
    }
   ],
   "source": [
    "#Carga de los datos\n",
    "\n",
    "data_0 = pd.read_csv('geo_data_0.csv')\n",
    "data_1 = pd.read_csv('geo_data_1.csv')\n",
    "data_2 = pd.read_csv('geo_data_2.csv')\n",
    "\n",
    "#Verificando la estructura de los datos\n",
    "print(\"Data 0\")\n",
    "data_0.info()\n",
    "print(\"\\nData 01\")\n",
    "data_1.info()\n",
    "\n",
    "\n"
   ]
  },
  {
   "cell_type": "code",
   "execution_count": 22,
   "metadata": {},
   "outputs": [
    {
     "name": "stdout",
     "output_type": "stream",
     "text": [
      "Data 02\n",
      "<class 'pandas.core.frame.DataFrame'>\n",
      "RangeIndex: 100000 entries, 0 to 99999\n",
      "Data columns (total 5 columns):\n",
      " #   Column   Non-Null Count   Dtype  \n",
      "---  ------   --------------   -----  \n",
      " 0   id       100000 non-null  object \n",
      " 1   f0       100000 non-null  float64\n",
      " 2   f1       100000 non-null  float64\n",
      " 3   f2       100000 non-null  float64\n",
      " 4   product  100000 non-null  float64\n",
      "dtypes: float64(4), object(1)\n",
      "memory usage: 3.8+ MB\n"
     ]
    }
   ],
   "source": [
    "print(\"Data 02\")\n",
    "data_2.info()"
   ]
  },
  {
   "cell_type": "code",
   "execution_count": 25,
   "metadata": {},
   "outputs": [
    {
     "data": {
      "text/html": [
       "<div>\n",
       "<style scoped>\n",
       "    .dataframe tbody tr th:only-of-type {\n",
       "        vertical-align: middle;\n",
       "    }\n",
       "\n",
       "    .dataframe tbody tr th {\n",
       "        vertical-align: top;\n",
       "    }\n",
       "\n",
       "    .dataframe thead th {\n",
       "        text-align: right;\n",
       "    }\n",
       "</style>\n",
       "<table border=\"1\" class=\"dataframe\">\n",
       "  <thead>\n",
       "    <tr style=\"text-align: right;\">\n",
       "      <th></th>\n",
       "      <th>id</th>\n",
       "      <th>f0</th>\n",
       "      <th>f1</th>\n",
       "      <th>f2</th>\n",
       "      <th>product</th>\n",
       "    </tr>\n",
       "  </thead>\n",
       "  <tbody>\n",
       "    <tr>\n",
       "      <th>0</th>\n",
       "      <td>txEyH</td>\n",
       "      <td>0.705745</td>\n",
       "      <td>-0.497823</td>\n",
       "      <td>1.221170</td>\n",
       "      <td>105.280062</td>\n",
       "    </tr>\n",
       "    <tr>\n",
       "      <th>1</th>\n",
       "      <td>2acmU</td>\n",
       "      <td>1.334711</td>\n",
       "      <td>-0.340164</td>\n",
       "      <td>4.365080</td>\n",
       "      <td>73.037750</td>\n",
       "    </tr>\n",
       "    <tr>\n",
       "      <th>2</th>\n",
       "      <td>409Wp</td>\n",
       "      <td>1.022732</td>\n",
       "      <td>0.151990</td>\n",
       "      <td>1.419926</td>\n",
       "      <td>85.265647</td>\n",
       "    </tr>\n",
       "    <tr>\n",
       "      <th>3</th>\n",
       "      <td>iJLyR</td>\n",
       "      <td>-0.032172</td>\n",
       "      <td>0.139033</td>\n",
       "      <td>2.978566</td>\n",
       "      <td>168.620776</td>\n",
       "    </tr>\n",
       "    <tr>\n",
       "      <th>4</th>\n",
       "      <td>Xdl7t</td>\n",
       "      <td>1.988431</td>\n",
       "      <td>0.155413</td>\n",
       "      <td>4.751769</td>\n",
       "      <td>154.036647</td>\n",
       "    </tr>\n",
       "  </tbody>\n",
       "</table>\n",
       "</div>"
      ],
      "text/plain": [
       "      id        f0        f1        f2     product\n",
       "0  txEyH  0.705745 -0.497823  1.221170  105.280062\n",
       "1  2acmU  1.334711 -0.340164  4.365080   73.037750\n",
       "2  409Wp  1.022732  0.151990  1.419926   85.265647\n",
       "3  iJLyR -0.032172  0.139033  2.978566  168.620776\n",
       "4  Xdl7t  1.988431  0.155413  4.751769  154.036647"
      ]
     },
     "execution_count": 25,
     "metadata": {},
     "output_type": "execute_result"
    }
   ],
   "source": [
    "data_0.head()"
   ]
  },
  {
   "cell_type": "code",
   "execution_count": null,
   "metadata": {},
   "outputs": [
    {
     "name": "stdout",
     "output_type": "stream",
     "text": [
      "Datos duplicados data 0: 0\n",
      "\n",
      "Datos duplicados data 1: 0\n",
      "\n",
      "Datos duplicados data 2: 0\n"
     ]
    }
   ],
   "source": [
    "#Verificamos rapidamente los valores duplicados:\n",
    "print(\"Datos duplicados data 0:\", data_0.duplicated().sum())\n",
    "\n",
    "print(\"\\nDatos duplicados data 1:\", data_1.duplicated().sum())\n",
    "\n",
    "print(\"\\nDatos duplicados data 2:\", data_2.duplicated().sum())\n"
   ]
  },
  {
   "cell_type": "markdown",
   "metadata": {},
   "source": [
    "* Hacemos un analisis premilinar de los datos, para verificar si tienen datos nulos, datos duplicados y si el tipo de dato es el correcto."
   ]
  },
  {
   "cell_type": "markdown",
   "metadata": {},
   "source": [
    "## Prepraracion de los Datos"
   ]
  },
  {
   "cell_type": "code",
   "execution_count": 27,
   "metadata": {},
   "outputs": [],
   "source": [
    "#Creamos una funcion para dividir, entrenar y evaluar el modelo:\n",
    "def train_and_evaluate(data):\n",
    "    features = data.drop(['id', 'product'], axis = 1)\n",
    "    target = data['product']\n",
    "    \n",
    "    #Division de los datos:\n",
    "    features_train, features_valid, target_train, target_valid = train_test_split(features, target, random_state=12345, test_size=0.25)\n",
    "    \n",
    "    #Entrenamiento del Modelo:\n",
    "    model = LinearRegression()\n",
    "    model.fit(features_train, target_train)\n",
    "    \n",
    "    #Predicciones y calculo del RSME\n",
    "    predictions = model.predict(features_valid)\n",
    "    rmse = root_mean_squared_error(target_valid, predictions)\n",
    "    \n",
    "    mean_reserves = predictions.mean()\n",
    "    \n",
    "    return predictions, target_valid.reset_index(drop=True), mean_reserves, rmse"
   ]
  },
  {
   "cell_type": "markdown",
   "metadata": {},
   "source": [
    "* Creamos la funcion para hacer la division de los datos con la consigna del 75% y 25% para datos de entrenamiento y de prueba respectivamente, entrenamos el modelo, y devolvemos las predicciones, los datos de validacion, el promedio de las resevas y el RMSE"
   ]
  },
  {
   "cell_type": "code",
   "execution_count": 36,
   "metadata": {},
   "outputs": [
    {
     "name": "stdout",
     "output_type": "stream",
     "text": [
      "Region 0: RSME= 37.58, Media de Reservas = 92.59\n",
      "Region 1: RSME= 0.89, Media de Reservas = 68.73\n",
      "Region 2: RSME= 40.03, Media de Reservas = 94.97\n"
     ]
    }
   ],
   "source": [
    "# Entrenar y evaluar para cada region:\n",
    "results_0 = train_and_evaluate(data_0)\n",
    "results_1 = train_and_evaluate(data_1)\n",
    "results_2 = train_and_evaluate(data_2)\n",
    "\n",
    "#Imprimir los resultados:\n",
    "for i, results in enumerate([results_0, results_1, results_2]):\n",
    "    print(f'Region {i}: RSME= {results[3]:.2f}, Media de Reservas = {results[2]:.2f}')"
   ]
  },
  {
   "cell_type": "markdown",
   "metadata": {},
   "source": [
    "* Tenemos la Region 0 y 2, con un rmse de valor alto, esto indica incertidumbre en las predicciones que puede llevar a mas errores, pero la media de reservas es mayor que en la region 1, lo que puede generar mas rendimiento que la region 1, apesar de tener una menor incertidumbre."
   ]
  },
  {
   "cell_type": "markdown",
   "metadata": {},
   "source": [
    "## Calculo de ganancias"
   ]
  },
  {
   "cell_type": "code",
   "execution_count": null,
   "metadata": {},
   "outputs": [],
   "source": [
    "#Parametros:\n",
    "budget = 100e6 #Inversion\n",
    "unit_profit = 4500  #Ingreso por un barril en USD\n",
    "wells_selected = 200 # Los 200 mejores puntos\n",
    "min_profit_threshold = 111.1 #Monto minimo de unidades de barril para no tener perdidas\n",
    "\n",
    "#Funcion para el calculo de la ganancia estimada de la region:\n",
    "def calculate_profit(predictions):\n",
    "    top_predictions = np.sort(predictions)[-wells_selected]\n",
    "    total_reserves = top_predictions.sum()\n",
    "    revenue = total_reserves * unit_profit\n",
    "    \n",
    "    return revenue - budget\n",
    "\n"
   ]
  },
  {
   "cell_type": "markdown",
   "metadata": {},
   "source": [
    "* Definimos los parametros mencionados en el proyecto, y generamos la funcion para el calculo de la ganancia estimada, se colocar el np.sort porque la devolucion devolucion de nuestra funcion anteriror no es un dataframe, y el signo '-' indica que tomaremos los 200 ultimos que serian las mayores predicciones. Para que finalmente calculemos todas las reservas de cada region, y se reste con la inversion."
   ]
  },
  {
   "cell_type": "code",
   "execution_count": 41,
   "metadata": {},
   "outputs": [
    {
     "name": "stdout",
     "output_type": "stream",
     "text": [
      "Ganancia Region 0: $-99,332,353.27\n",
      "Ganancia Region 1: $-99,377,151.86\n",
      "Ganancia Region 2: $-99,359,160.17\n"
     ]
    }
   ],
   "source": [
    "# Calcular las ganancias para cada region:\n",
    "profit_0 = calculate_profit(results_0[0])\n",
    "profit_1 = calculate_profit(results_1[0])\n",
    "profit_2 = calculate_profit(results_2[0])\n",
    "\n",
    "print(f\"Ganancia Region 0: ${profit_0:,.2f}\")\n",
    "print(f\"Ganancia Region 1: ${profit_1:,.2f}\")\n",
    "print(f\"Ganancia Region 2: ${profit_2:,.2f}\")"
   ]
  },
  {
   "cell_type": "markdown",
   "metadata": {},
   "source": [
    "* Verificando los resultados nos encontramos que ninguna region logra generar ganancias, lo que nos indica que las reservas de los 200 mejores pozos no es suficiente para cubrir el presupuesto de los 100 millones de USD."
   ]
  },
  {
   "cell_type": "markdown",
   "metadata": {},
   "source": [
    "## Analisis de riesgo y bootstrapping"
   ]
  },
  {
   "cell_type": "code",
   "execution_count": 31,
   "metadata": {},
   "outputs": [],
   "source": [
    "#Funcion para aplicar bootstrapping y calcular el riesgo de perdida:\n",
    "def bootstrap_risk(predictions, confidence_level=0.025, n_samples=1000):\n",
    "    profits = []\n",
    "    \n",
    "    for _ in range(n_samples):\n",
    "        sample = np.random.choice(predictions, size=wells_selected, replace=True)\n",
    "        revenue = sample.sum() * unit_profit - budget\n",
    "        profits.append(revenue)\n",
    "    \n",
    "    # Calcular estadísticos\n",
    "    profits = np.array(profits)\n",
    "    mean_profit = profits.mean()\n",
    "    lower_bound = np.percentile(profits, confidence_level * 100)\n",
    "    upper_bound = np.percentile(profits, (1 - confidence_level) * 100)\n",
    "    risk = np.mean(profits < 0) * 100  # porcentaje de riesgo de pérdida\n",
    "    \n",
    "    return mean_profit, (lower_bound, upper_bound), risk"
   ]
  },
  {
   "cell_type": "markdown",
   "metadata": {},
   "source": [
    "* Aplicamos la tecnica de bootstrapping con la generacion de 1000 muestras, para cuantificar el benificio esperado como tambien el riesgo de perdida en funcion de las reservas estimadas, si el riesgo esta por debajo del 2.5% la ganancia promedio es positiva y la region puede considerarse una buena opcion de inversion."
   ]
  },
  {
   "cell_type": "code",
   "execution_count": 32,
   "metadata": {},
   "outputs": [
    {
     "name": "stdout",
     "output_type": "stream",
     "text": [
      "Region 0: Beneficio Promedio = $-16,698,039.05, Intervalo de confianza 95% = (-19523776.65822784, -13890982.073329234), Riesgo de perdida = 100.00%\n",
      "Region 1: Beneficio Promedio = $-38,166,612.79, Intervalo de confianza 95% = (-43943949.118129805, -32327584.485645182), Riesgo de perdida = 100.00%\n",
      "Region 2: Beneficio Promedio = $-14,495,814.84, Intervalo de confianza 95% = (-16911188.08313878, -11839545.832762577), Riesgo de perdida = 100.00%\n"
     ]
    }
   ],
   "source": [
    "#Evaluar el reisgo de cada region:\n",
    "risk_0 = bootstrap_risk(results_0[0])\n",
    "risk_1 = bootstrap_risk(results_1[0])\n",
    "risk_2 = bootstrap_risk(results_2[0])\n",
    "\n",
    "for i, risk in enumerate([risk_0, risk_1, risk_2]):\n",
    "    print(f\"Region {i}: Beneficio Promedio = ${risk[0]:,.2f}, Intervalo de confianza 95% = {risk[1]}, Riesgo de perdida = {risk[2]:.2f}%\")"
   ]
  },
  {
   "cell_type": "markdown",
   "metadata": {},
   "source": [
    "* Tenemos que para cada region el beneficio es negativo y para el intervalo de confianza del 95% tenemos un riesgo de perdida del 100% para cada region."
   ]
  },
  {
   "cell_type": "markdown",
   "metadata": {},
   "source": [
    "## Conclusiones"
   ]
  },
  {
   "cell_type": "markdown",
   "metadata": {},
   "source": [
    "1.  Los resultados obtenidfos indican que, segun las predicciones actuales, abrir nuevos pozos en cualquiera de las 3 regiones resulta en perdidas significativas. Bajo la condicion de 100 millones de dolares no justifca los ingresos potenciales de la reservas.\n",
    "\n",
    "2. Es posible que el uso de la regresion lineal como modelo no sea lo suficientemente robusto para la prediccion del volumen.\n",
    "\n",
    "3. El riesgo es del 100% en todas las regiones, lo que indica una mala inversiones puesto que no sera recuperada."
   ]
  }
 ],
 "metadata": {
  "kernelspec": {
   "display_name": "Python 3",
   "language": "python",
   "name": "python3"
  },
  "language_info": {
   "codemirror_mode": {
    "name": "ipython",
    "version": 3
   },
   "file_extension": ".py",
   "mimetype": "text/x-python",
   "name": "python",
   "nbconvert_exporter": "python",
   "pygments_lexer": "ipython3",
   "version": "3.12.2"
  }
 },
 "nbformat": 4,
 "nbformat_minor": 2
}
